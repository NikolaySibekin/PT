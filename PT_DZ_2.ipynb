{
 "cells": [
  {
   "cell_type": "code",
   "execution_count": 1,
   "metadata": {},
   "outputs": [],
   "source": [
    "import numpy as np"
   ]
  },
  {
   "cell_type": "code",
   "execution_count": 2,
   "metadata": {},
   "outputs": [],
   "source": [
    "from math import factorial"
   ]
  },
  {
   "cell_type": "markdown",
   "metadata": {},
   "source": [
    "### Задача 1"
   ]
  },
  {
   "cell_type": "markdown",
   "metadata": {},
   "source": [
    "#### Контрольная работа состоит из пяти вопросов. На каждый вопрос приведено четыре варианта ответа, один из которых правильный.\n",
    "#### Составьте закон распределения числа правильных ответов при простом угадывании. Найдите M(X), D(X)."
   ]
  },
  {
   "cell_type": "markdown",
   "metadata": {},
   "source": [
    "#### Решение:"
   ]
  },
  {
   "cell_type": "markdown",
   "metadata": {},
   "source": [
    "#### Пусть X - дискретная случайная величина, равная числу правильных ответов.\n",
    "#### Она распределена по биноминальному закону с параметрами:"
   ]
  },
  {
   "cell_type": "markdown",
   "metadata": {},
   "source": [
    "#### n = 5 (число вопросов), p = 1 / 4 (вероятность угадать ответ)."
   ]
  },
  {
   "cell_type": "markdown",
   "metadata": {},
   "source": [
    "#### Поэтому вероятности вычисляем по формуле Бернулли:"
   ]
  },
  {
   "cell_type": "markdown",
   "metadata": {},
   "source": [
    "#### P(X = k) = n! * (p ** k) * ((1 - p) ** (n - k))  / (k! * (n - k)!)"
   ]
  },
  {
   "cell_type": "markdown",
   "metadata": {},
   "source": [
    "#### Получаем: "
   ]
  },
  {
   "cell_type": "code",
   "execution_count": 3,
   "metadata": {},
   "outputs": [],
   "source": [
    "n = 5\n",
    "p = 1 / 4"
   ]
  },
  {
   "cell_type": "code",
   "execution_count": 4,
   "metadata": {},
   "outputs": [
    {
     "data": {
      "text/plain": [
       "0.0009765625"
      ]
     },
     "execution_count": 4,
     "metadata": {},
     "output_type": "execute_result"
    }
   ],
   "source": [
    "x5 = k = 5\n",
    "p5 = np.math.factorial(n) * (p ** k) * ((1 - p) ** (n - k)) / (np.math.factorial(k) * np.math.factorial(n - k))\n",
    "p5"
   ]
  },
  {
   "cell_type": "code",
   "execution_count": 5,
   "metadata": {},
   "outputs": [
    {
     "data": {
      "text/plain": [
       "0.0146484375"
      ]
     },
     "execution_count": 5,
     "metadata": {},
     "output_type": "execute_result"
    }
   ],
   "source": [
    "x4 = k = 4\n",
    "p4 = np.math.factorial(n) * (p ** k) * ((1 - p) ** (n - k)) / (np.math.factorial(k) * np.math.factorial(n - k))\n",
    "p4"
   ]
  },
  {
   "cell_type": "code",
   "execution_count": 6,
   "metadata": {},
   "outputs": [
    {
     "data": {
      "text/plain": [
       "0.087890625"
      ]
     },
     "execution_count": 6,
     "metadata": {},
     "output_type": "execute_result"
    }
   ],
   "source": [
    "x3 = k = 3\n",
    "p3 = np.math.factorial(n) * (p ** k) * ((1 - p) ** (n - k)) / (np.math.factorial(k) * np.math.factorial(n - k))\n",
    "p3"
   ]
  },
  {
   "cell_type": "code",
   "execution_count": 7,
   "metadata": {},
   "outputs": [
    {
     "data": {
      "text/plain": [
       "0.263671875"
      ]
     },
     "execution_count": 7,
     "metadata": {},
     "output_type": "execute_result"
    }
   ],
   "source": [
    "x2 = k = 2\n",
    "p2 = np.math.factorial(n) * (p ** k) * ((1 - p) ** (n - k)) / (np.math.factorial(k) * np.math.factorial(n - k))\n",
    "p2"
   ]
  },
  {
   "cell_type": "code",
   "execution_count": 8,
   "metadata": {},
   "outputs": [
    {
     "data": {
      "text/plain": [
       "0.3955078125"
      ]
     },
     "execution_count": 8,
     "metadata": {},
     "output_type": "execute_result"
    }
   ],
   "source": [
    "x1 = k = 1\n",
    "p1 = np.math.factorial(n) * (p ** k) * ((1 - p) ** (n - k)) / (np.math.factorial(k) * np.math.factorial(n - k))\n",
    "p1"
   ]
  },
  {
   "cell_type": "code",
   "execution_count": 9,
   "metadata": {},
   "outputs": [
    {
     "data": {
      "text/plain": [
       "0.2373046875"
      ]
     },
     "execution_count": 9,
     "metadata": {},
     "output_type": "execute_result"
    }
   ],
   "source": [
    "x0 = k = 0\n",
    "p0 = np.math.factorial(n) * (p ** k) * ((1 - p) ** (n - k)) / (np.math.factorial(k) * np.math.factorial(n - k))\n",
    "p0"
   ]
  },
  {
   "cell_type": "markdown",
   "metadata": {},
   "source": [
    "#### Получили следующий закон распределения:"
   ]
  },
  {
   "cell_type": "markdown",
   "metadata": {},
   "source": [
    "#### xi  0            1            2           3           4            5\n",
    "#### pi  0.2373046875 0.3955078125 0.263671875 0.087890625 0.0146484375 0.0009765625"
   ]
  },
  {
   "cell_type": "markdown",
   "metadata": {},
   "source": [
    "#### По формулам для биноминального распределения найдем M(X) = n * p и D(X) = n * p * (1 - p)"
   ]
  },
  {
   "cell_type": "markdown",
   "metadata": {},
   "source": [
    "#### Получаем:"
   ]
  },
  {
   "cell_type": "code",
   "execution_count": 10,
   "metadata": {},
   "outputs": [
    {
     "data": {
      "text/plain": [
       "1.25"
      ]
     },
     "execution_count": 10,
     "metadata": {},
     "output_type": "execute_result"
    }
   ],
   "source": [
    "M = n * p\n",
    "M"
   ]
  },
  {
   "cell_type": "code",
   "execution_count": 11,
   "metadata": {},
   "outputs": [
    {
     "data": {
      "text/plain": [
       "0.9375"
      ]
     },
     "execution_count": 11,
     "metadata": {},
     "output_type": "execute_result"
    }
   ],
   "source": [
    "D = n * p * (1 - p)\n",
    "D"
   ]
  },
  {
   "cell_type": "markdown",
   "metadata": {},
   "source": [
    "### Задача 2"
   ]
  },
  {
   "cell_type": "markdown",
   "metadata": {},
   "source": [
    "#### Вероятность попадания в цель при одном выстреле равна 0.01.\n",
    "#### Какова вероятность того, что число попаданий при 200 выстрелах будет не менее 5 и не более 10?"
   ]
  },
  {
   "cell_type": "markdown",
   "metadata": {},
   "source": [
    "#### Решение:"
   ]
  },
  {
   "cell_type": "markdown",
   "metadata": {},
   "source": [
    "#### По условию задачи: \n",
    "#### Вероятность попадания в цель при одном выстреле равна p = 0.01. Производится n = 200 выстрелов. \n",
    "#### Найти вероятность того, что цель будет поражена в точности k раз (будет k попаданий), где 5 <= k <= 10"
   ]
  },
  {
   "cell_type": "markdown",
   "metadata": {},
   "source": [
    "#### Вероятность того, что цель будет поражена в этих n выстрелах ровно k раз, выражается формулой Бернулли:"
   ]
  },
  {
   "cell_type": "markdown",
   "metadata": {},
   "source": [
    "#### Pn(k)=Ckn * p ** k * (1−p) ** (n - k), где Ckn - число сочетаний из n по k"
   ]
  },
  {
   "cell_type": "code",
   "execution_count": 12,
   "metadata": {},
   "outputs": [],
   "source": [
    "p = 0.01\n",
    "n = 200"
   ]
  },
  {
   "cell_type": "code",
   "execution_count": 13,
   "metadata": {},
   "outputs": [],
   "source": [
    "k = 5\n",
    "C5 = 2535650040"
   ]
  },
  {
   "cell_type": "code",
   "execution_count": 14,
   "metadata": {},
   "outputs": [
    {
     "data": {
      "text/plain": [
       "1.0000000000000002e-10"
      ]
     },
     "execution_count": 14,
     "metadata": {},
     "output_type": "execute_result"
    }
   ],
   "source": [
    "p ** k"
   ]
  },
  {
   "cell_type": "code",
   "execution_count": 15,
   "metadata": {},
   "outputs": [
    {
     "data": {
      "text/plain": [
       "0.99"
      ]
     },
     "execution_count": 15,
     "metadata": {},
     "output_type": "execute_result"
    }
   ],
   "source": [
    "q = (1 - p)\n",
    "q"
   ]
  },
  {
   "cell_type": "code",
   "execution_count": 16,
   "metadata": {},
   "outputs": [
    {
     "data": {
      "text/plain": [
       "0.14088441290426768"
      ]
     },
     "execution_count": 16,
     "metadata": {},
     "output_type": "execute_result"
    }
   ],
   "source": [
    "q ** (n - k)"
   ]
  },
  {
   "cell_type": "code",
   "execution_count": 17,
   "metadata": {},
   "outputs": [
    {
     "data": {
      "text/plain": [
       "0.03572335672160829"
      ]
     },
     "execution_count": 17,
     "metadata": {},
     "output_type": "execute_result"
    }
   ],
   "source": [
    "P5 = 2535650040 * 1.0000000000000002e-10 * 0.14088441290426768\n",
    "P5"
   ]
  },
  {
   "cell_type": "code",
   "execution_count": 18,
   "metadata": {},
   "outputs": [],
   "source": [
    "k = 10\n",
    "C10 = 22451004309013280"
   ]
  },
  {
   "cell_type": "code",
   "execution_count": 19,
   "metadata": {},
   "outputs": [
    {
     "data": {
      "text/plain": [
       "1.0000000000000002e-20"
      ]
     },
     "execution_count": 19,
     "metadata": {},
     "output_type": "execute_result"
    }
   ],
   "source": [
    "p ** k"
   ]
  },
  {
   "cell_type": "code",
   "execution_count": 20,
   "metadata": {},
   "outputs": [
    {
     "data": {
      "text/plain": [
       "0.14814499154757946"
      ]
     },
     "execution_count": 20,
     "metadata": {},
     "output_type": "execute_result"
    }
   ],
   "source": [
    "q ** (n - k)"
   ]
  },
  {
   "cell_type": "code",
   "execution_count": 21,
   "metadata": {},
   "outputs": [
    {
     "data": {
      "text/plain": [
       "3.326003843593443e-05"
      ]
     },
     "execution_count": 21,
     "metadata": {},
     "output_type": "execute_result"
    }
   ],
   "source": [
    "P10 = 22451004309013280 * 1.0000000000000002e-20 * 0.14814499154757946\n",
    "P10"
   ]
  },
  {
   "cell_type": "markdown",
   "metadata": {},
   "source": [
    "#### То есть вероятность того, что число попаданий при 200 выстрелах будет не менее 5 и не более 10,\n",
    "#### находится в интервале от 0.03572335672160829 до 3.326003843593443e-05 = 0"
   ]
  },
  {
   "cell_type": "markdown",
   "metadata": {},
   "source": [
    "### Задача 3"
   ]
  },
  {
   "cell_type": "markdown",
   "metadata": {},
   "source": [
    "#### В условиях предыдущей задачи сколько выстрелов нужно сделать чтобы быть уверенным с вероятностью 0.9,\n",
    "#### что хотя бы 10 раз будет совершено попадание?\n",
    "#### Подсказка. Как посчитать P(X >= k) для величины X, имеющей распределение Пуассона? Здесь предстоит немножко покодить."
   ]
  },
  {
   "cell_type": "markdown",
   "metadata": {},
   "source": [
    "#### Решение:"
   ]
  },
  {
   "cell_type": "markdown",
   "metadata": {},
   "source": [
    "#### Если проводится большое количество испытаний  n  и при этом вероятность  p  появления события  A  в отдельном испытании мала,\n",
    "#### применяют формулу Пуассона для вычисления вероятности того, что событие произойдет  m  раз в  n  испытаниях:"
   ]
  },
  {
   "cell_type": "markdown",
   "metadata": {},
   "source": [
    "#### Pm ≈ (λ ** m) * ((e ** (−λ)) / m!, где λ = n * p"
   ]
  },
  {
   "cell_type": "markdown",
   "metadata": {},
   "source": [
    "#### Применяя формулу Пуассона, зная что m = 10, p = 0.01, Pm = 0.9, необходимо найти n."
   ]
  },
  {
   "cell_type": "markdown",
   "metadata": {},
   "source": [
    "#### Проведем пробные расчеты для различных n:"
   ]
  },
  {
   "cell_type": "code",
   "execution_count": 22,
   "metadata": {},
   "outputs": [
    {
     "data": {
      "text/plain": [
       "0.1251100357211333"
      ]
     },
     "execution_count": 22,
     "metadata": {},
     "output_type": "execute_result"
    }
   ],
   "source": [
    "n = 1000\n",
    "m = 10\n",
    "p = 0.01\n",
    "lambda_ = n * p\n",
    "\n",
    "Pm = (lambda_** m / np.math.factorial(m)) * np.exp(-lambda_)\n",
    "Pm"
   ]
  },
  {
   "cell_type": "code",
   "execution_count": 23,
   "metadata": {},
   "outputs": [
    {
     "data": {
      "text/plain": [
       "0.005816306518345137"
      ]
     },
     "execution_count": 23,
     "metadata": {},
     "output_type": "execute_result"
    }
   ],
   "source": [
    "n = 2000\n",
    "m = 10\n",
    "p = 0.01\n",
    "lambda_ = n * p\n",
    "\n",
    "Pm = (lambda_** m / np.math.factorial(m)) * np.exp(-lambda_)\n",
    "Pm"
   ]
  },
  {
   "cell_type": "code",
   "execution_count": 24,
   "metadata": {},
   "outputs": [
    {
     "data": {
      "text/plain": [
       "0.09926153383153559"
      ]
     },
     "execution_count": 24,
     "metadata": {},
     "output_type": "execute_result"
    }
   ],
   "source": [
    "n = 800\n",
    "m = 10\n",
    "p = 0.01\n",
    "lambda_ = n * p\n",
    "\n",
    "Pm = (lambda_** m / np.math.factorial(m)) * np.exp(-lambda_)\n",
    "Pm"
   ]
  },
  {
   "cell_type": "markdown",
   "metadata": {},
   "source": [
    "#### Может в задаче ошибка)) и Pm = 0.09?"
   ]
  },
  {
   "cell_type": "code",
   "execution_count": 25,
   "metadata": {},
   "outputs": [
    {
     "name": "stdout",
     "output_type": "stream",
     "text": [
      "n =  750 , Pm =  0.08583037040867353\n",
      "n =  751 , Pm =  0.08611618420817457\n",
      "n =  752 , Pm =  0.08640141781093084\n",
      "n =  753 , Pm =  0.08668606324891183\n",
      "n =  754 , Pm =  0.08697011258305054\n",
      "n =  755 , Pm =  0.08725355790360638\n",
      "n =  756 , Pm =  0.08753639133052492\n",
      "n =  757 , Pm =  0.08781860501379449\n",
      "n =  758 , Pm =  0.08810019113379965\n",
      "n =  759 , Pm =  0.08838114190167139\n",
      "n =  760 , Pm =  0.08866144955963406\n",
      "n =  761 , Pm =  0.08894110638134928\n",
      "n =  762 , Pm =  0.08922010467225631\n",
      "n =  763 , Pm =  0.08949843676990946\n",
      "n =  764 , Pm =  0.08977609504431222\n",
      "n =  765 , Pm =  0.09005307189824763\n",
      "Ответ: n =  765\n"
     ]
    }
   ],
   "source": [
    "m = 10\n",
    "p = 0.01\n",
    "\n",
    "for n in range(750, 1000):\n",
    "    lambda_ = n * p\n",
    "    Pm = (lambda_** m / np.math.factorial(m)) * np.exp(-lambda_)\n",
    "    print(\"n = \", n, \", \" \"Pm = \", Pm)\n",
    "    if Pm >= 0.09:\n",
    "        print(\"Ответ: n = \", n)\n",
    "        break\n",
    "    else: \n",
    "        n += 5"
   ]
  }
 ],
 "metadata": {
  "kernelspec": {
   "display_name": "Python 3",
   "language": "python",
   "name": "python3"
  },
  "language_info": {
   "codemirror_mode": {
    "name": "ipython",
    "version": 3
   },
   "file_extension": ".py",
   "mimetype": "text/x-python",
   "name": "python",
   "nbconvert_exporter": "python",
   "pygments_lexer": "ipython3",
   "version": "3.7.1"
  }
 },
 "nbformat": 4,
 "nbformat_minor": 2
}
