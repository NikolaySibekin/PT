{
 "cells": [
  {
   "cell_type": "markdown",
   "metadata": {},
   "source": [
    "### Задача 1"
   ]
  },
  {
   "cell_type": "markdown",
   "metadata": {},
   "source": [
    "#### О непрерывной равномерно распределенной случайной величине B известно, что ее дисперсия равна 0.2. \n",
    "#### Можно ли найти правую границу величины B и ее среднее значение зная, что левая граница равна 0.5? Если да, найдите ее."
   ]
  },
  {
   "cell_type": "markdown",
   "metadata": {},
   "source": [
    "#### Решение:"
   ]
  },
  {
   "cell_type": "markdown",
   "metadata": {},
   "source": [
    "#### Для непрерывно равномерно распределенной на отрезке [a, b] случайной величины B дисперсию можно вычислить по формуле\n",
    "#### ((b - a) ** 2) / 12"
   ]
  },
  {
   "cell_type": "markdown",
   "metadata": {},
   "source": [
    "#### По условию задачи она равна 0.2 и а = 0.5, можно решив квадратное уравнение, найти b"
   ]
  },
  {
   "cell_type": "markdown",
   "metadata": {},
   "source": [
    "#### b ** 2 - 2 * 0.5 * b + 0.5 ** 2 - 0.2 * 12 = 0"
   ]
  },
  {
   "cell_type": "markdown",
   "metadata": {},
   "source": [
    "#### b**2 - 2*x - 2.15 = 0"
   ]
  },
  {
   "cell_type": "markdown",
   "metadata": {},
   "source": [
    "#### Так как дискриминант равен 12.6  - больше нуля то, квадратное уравнение имеет два действительных корня:\n",
    "-0.7748239349298849 и 2.774823934929885"
   ]
  },
  {
   "cell_type": "markdown",
   "metadata": {},
   "source": [
    "#### Для правой границы нам подходит b = 2.774823934929885"
   ]
  },
  {
   "cell_type": "markdown",
   "metadata": {},
   "source": [
    "#### Вычислим среднее значение: (a + b) / 2"
   ]
  },
  {
   "cell_type": "code",
   "execution_count": 1,
   "metadata": {},
   "outputs": [
    {
     "data": {
      "text/plain": [
       "1.6374119674649426"
      ]
     },
     "execution_count": 1,
     "metadata": {},
     "output_type": "execute_result"
    }
   ],
   "source": [
    "(0.5 + 2.774823934929885) / 2"
   ]
  },
  {
   "cell_type": "markdown",
   "metadata": {},
   "source": [
    "### Задача 2"
   ]
  },
  {
   "cell_type": "markdown",
   "metadata": {},
   "source": [
    "#### На сколько сигм (средних квадратических отклонений) отклоняется рост человека, равный 190 см,\n",
    "#### от математического ожидания роста в популяции, в которой M(X) = 178 и D(X) = 25?"
   ]
  },
  {
   "cell_type": "markdown",
   "metadata": {},
   "source": [
    "#### Решение:"
   ]
  },
  {
   "cell_type": "markdown",
   "metadata": {},
   "source": [
    "#### Рост людей - пример нормально распределенной величины и σ ** 2 = D(X). То есть по условию задачи σ = 5."
   ]
  },
  {
   "cell_type": "markdown",
   "metadata": {},
   "source": [
    "#### Посчитаем сколько сигм укладывается в интервале: "
   ]
  },
  {
   "cell_type": "code",
   "execution_count": 2,
   "metadata": {},
   "outputs": [
    {
     "data": {
      "text/plain": [
       "2.4"
      ]
     },
     "execution_count": 2,
     "metadata": {},
     "output_type": "execute_result"
    }
   ],
   "source": [
    "(190 - 178) / 5"
   ]
  },
  {
   "cell_type": "markdown",
   "metadata": {},
   "source": [
    "### Задача 3"
   ]
  },
  {
   "cell_type": "markdown",
   "metadata": {},
   "source": [
    "#### Рост взрослого населения города X имеет нормальное распределение, причем, средний рост равен 174 см,\n",
    "#### а среднее квадратическое отклонение равно 8 см. \n",
    "#### Какова вероятность того, что случайным образом выбранный взрослый человек имеет рост:\n",
    "#### 1. больше 182 см?\n",
    "#### 2. больше 190 см?\n",
    "#### 3. от 166 см до 190 см?\n",
    "#### 4. от 166 см до 182 см?\n",
    "#### 5. от 158 см до 190 см?\n",
    "#### 6. не выше 150 см или не ниже 190 см?\n",
    "#### 7. не выше 150 см или не ниже 198 см?\n",
    "#### 8. ниже 166 см?"
   ]
  },
  {
   "cell_type": "markdown",
   "metadata": {},
   "source": [
    "#### Решение:"
   ]
  },
  {
   "cell_type": "markdown",
   "metadata": {},
   "source": [
    "#### Рост взрослого населения является случайной величиной, распределенной по нормальному закону."
   ]
  },
  {
   "cell_type": "markdown",
   "metadata": {},
   "source": [
    "#### Тогда, вероятность попадания значений нормальной случайной величины Х в интервал [alfa, betta] определяется формулой:\n",
    "#### P(alfa <= X <= betta) = 0.5 * [F((betta - a) / σ) - F((alfa - a) / σ)], где F - функция Лапласа\n",
    "#### По условию задачи средний рост (математическое ожидание) a = 174, среднее квадратическое отклонение σ = 8."
   ]
  },
  {
   "cell_type": "markdown",
   "metadata": {},
   "source": [
    "#### При вычислении функции Лапласа воспользуемся значениями из таблицы https://studrb.ru/works/entry10596"
   ]
  },
  {
   "cell_type": "markdown",
   "metadata": {},
   "source": [
    "#### P(alfa <= X <= betta) = 0.5 * [F((betta - 174) / σ) - F((alfa - 174) / 8)]"
   ]
  },
  {
   "cell_type": "markdown",
   "metadata": {},
   "source": [
    "#### А функция распределения случайной величины Х имеет вид: f(x) = 0.5 + 0.5 * F((x - 174) / 8)"
   ]
  },
  {
   "cell_type": "markdown",
   "metadata": {},
   "source": [
    "#### Посчитаем вероятности:"
   ]
  },
  {
   "cell_type": "markdown",
   "metadata": {},
   "source": [
    "#### Вероятность того, что случайным образом выбранный взрослый человек имеет рост:\n",
    "#### 1. больше 182 см?"
   ]
  },
  {
   "cell_type": "markdown",
   "metadata": {},
   "source": [
    "#### P(X >= 182) = 1 - f(182) = 1 - 0.5 - 0.5 * F((182 - 174) / 8) = 0.5 - 0.5 * F(1)"
   ]
  },
  {
   "cell_type": "code",
   "execution_count": 3,
   "metadata": {},
   "outputs": [
    {
     "data": {
      "text/plain": [
       "0.15865"
      ]
     },
     "execution_count": 3,
     "metadata": {},
     "output_type": "execute_result"
    }
   ],
   "source": [
    "0.5 - 0.5 * 0.6827"
   ]
  },
  {
   "cell_type": "markdown",
   "metadata": {},
   "source": [
    "#### Вероятность того, что случайным образом выбранный взрослый человек имеет рост:\n",
    "#### 2. больше 190 см?"
   ]
  },
  {
   "cell_type": "markdown",
   "metadata": {},
   "source": [
    "#### P(X >= 190) = 1 - f(190) = 1 - 0.5 - 0.5 * F((190 - 174) / 8) = 0.5 - 0.5 * F(2)"
   ]
  },
  {
   "cell_type": "code",
   "execution_count": 4,
   "metadata": {},
   "outputs": [
    {
     "data": {
      "text/plain": [
       "0.022749999999999992"
      ]
     },
     "execution_count": 4,
     "metadata": {},
     "output_type": "execute_result"
    }
   ],
   "source": [
    "0.5 - 0.5 * 0.9545"
   ]
  },
  {
   "cell_type": "markdown",
   "metadata": {},
   "source": [
    "#### Вероятность того, что случайным образом выбранный взрослый человек имеет рост:\n",
    "#### 3. от 166 см до 190 см?"
   ]
  },
  {
   "cell_type": "markdown",
   "metadata": {},
   "source": [
    "#### P(166 <= X <= 190) = 0.5 * [F((190 - 174) / 8) - F((166 - 174) / 8)] = 0.5 * [F(2) + F(1)]"
   ]
  },
  {
   "cell_type": "code",
   "execution_count": 5,
   "metadata": {},
   "outputs": [
    {
     "data": {
      "text/plain": [
       "0.8186"
      ]
     },
     "execution_count": 5,
     "metadata": {},
     "output_type": "execute_result"
    }
   ],
   "source": [
    "0.5 * (0.9545 + 0.6827)"
   ]
  },
  {
   "cell_type": "markdown",
   "metadata": {},
   "source": [
    "#### Вероятность того, что случайным образом выбранный взрослый человек имеет рост:\n",
    "#### 4. от 166 см до 182 см?"
   ]
  },
  {
   "cell_type": "markdown",
   "metadata": {},
   "source": [
    "#### P(166 <= X <= 182) = 0.5 * [F((190 - 182) / 8) - F((166 - 174) / 8)] = 0.5 * [F(1) + F(1)]"
   ]
  },
  {
   "cell_type": "code",
   "execution_count": 6,
   "metadata": {},
   "outputs": [
    {
     "data": {
      "text/plain": [
       "0.6827"
      ]
     },
     "execution_count": 6,
     "metadata": {},
     "output_type": "execute_result"
    }
   ],
   "source": [
    "0.5 * (0.6827 + 0.6827)"
   ]
  },
  {
   "cell_type": "markdown",
   "metadata": {},
   "source": [
    "#### Вероятность того, что случайным образом выбранный взрослый человек имеет рост:\n",
    "#### 5. от 158 см до 190 см?"
   ]
  },
  {
   "cell_type": "markdown",
   "metadata": {},
   "source": [
    "#### P(158 <= X <= 190) = 0.5 * [F((190 - 174) / 8) - F((158 - 174) / 8)] = 0.5 * [F(2) + F(2)]"
   ]
  },
  {
   "cell_type": "code",
   "execution_count": 7,
   "metadata": {},
   "outputs": [
    {
     "data": {
      "text/plain": [
       "0.9545"
      ]
     },
     "execution_count": 7,
     "metadata": {},
     "output_type": "execute_result"
    }
   ],
   "source": [
    "0.5 * (0.9545 + 0.9545)"
   ]
  },
  {
   "cell_type": "markdown",
   "metadata": {},
   "source": [
    "#### Вероятность того, что случайным образом выбранный взрослый человек имеет рост:\n",
    "#### 6. не выше 150 см или не ниже 190 см?"
   ]
  },
  {
   "cell_type": "markdown",
   "metadata": {},
   "source": [
    "#### P(X <= 150) = f(150) = 0.5 + 0.5 * F((150 - 174) / 8) = 0.5 - 0.5 * F(3)"
   ]
  },
  {
   "cell_type": "code",
   "execution_count": 8,
   "metadata": {},
   "outputs": [
    {
     "data": {
      "text/plain": [
       "0.0013500000000000179"
      ]
     },
     "execution_count": 8,
     "metadata": {},
     "output_type": "execute_result"
    }
   ],
   "source": [
    "0.5 - 0.5 * 0.9973"
   ]
  },
  {
   "cell_type": "markdown",
   "metadata": {},
   "source": [
    "#### P(X >= 190) = 1 - f(190) = 1 - 0.5 - 0.5 * F((190 - 174) / 8) = 0.5 - 0.5 * F(2)"
   ]
  },
  {
   "cell_type": "code",
   "execution_count": 9,
   "metadata": {},
   "outputs": [
    {
     "data": {
      "text/plain": [
       "0.022749999999999992"
      ]
     },
     "execution_count": 9,
     "metadata": {},
     "output_type": "execute_result"
    }
   ],
   "source": [
    "0.5 - 0.5 * 0.9545"
   ]
  },
  {
   "cell_type": "markdown",
   "metadata": {},
   "source": [
    "#### Вероятность того, что случайным образом выбранный взрослый человек имеет рост:\n",
    "#### 7. не выше 150 см или не ниже 198 см?"
   ]
  },
  {
   "cell_type": "markdown",
   "metadata": {},
   "source": [
    "P(X <= 150) = f(150) = 0.5 + 0.5 * F((150 - 174) / 8) = 0.5 - 0.5 * F(3)"
   ]
  },
  {
   "cell_type": "code",
   "execution_count": 10,
   "metadata": {},
   "outputs": [
    {
     "data": {
      "text/plain": [
       "0.0013500000000000179"
      ]
     },
     "execution_count": 10,
     "metadata": {},
     "output_type": "execute_result"
    }
   ],
   "source": [
    "0.5 - 0.5 * 0.9973"
   ]
  },
  {
   "cell_type": "markdown",
   "metadata": {},
   "source": [
    "P(X >= 198) = 1 - f(190) = 1 - 0.5 - 0.5 * F((198 - 174) / 8) = 0.5 - 0.5 * F(3)"
   ]
  },
  {
   "cell_type": "code",
   "execution_count": 11,
   "metadata": {},
   "outputs": [
    {
     "data": {
      "text/plain": [
       "0.0013500000000000179"
      ]
     },
     "execution_count": 11,
     "metadata": {},
     "output_type": "execute_result"
    }
   ],
   "source": [
    "0.5 - 0.5 * 0.9973"
   ]
  },
  {
   "cell_type": "markdown",
   "metadata": {},
   "source": [
    "#### Вероятность того, что случайным образом выбранный взрослый человек имеет рост:\n",
    "#### 8. ниже 166 см?"
   ]
  },
  {
   "cell_type": "markdown",
   "metadata": {},
   "source": [
    "P(X <= 166) = f(166) = 0.5 + 0.5 * F((166 - 174) / 8) = 0.5 - 0.5 * F(1)"
   ]
  },
  {
   "cell_type": "code",
   "execution_count": 12,
   "metadata": {},
   "outputs": [
    {
     "data": {
      "text/plain": [
       "0.15865"
      ]
     },
     "execution_count": 12,
     "metadata": {},
     "output_type": "execute_result"
    }
   ],
   "source": [
    "0.5 - 0.5 * 0.6827"
   ]
  }
 ],
 "metadata": {
  "kernelspec": {
   "display_name": "Python 3",
   "language": "python",
   "name": "python3"
  },
  "language_info": {
   "codemirror_mode": {
    "name": "ipython",
    "version": 3
   },
   "file_extension": ".py",
   "mimetype": "text/x-python",
   "name": "python",
   "nbconvert_exporter": "python",
   "pygments_lexer": "ipython3",
   "version": "3.7.1"
  }
 },
 "nbformat": 4,
 "nbformat_minor": 2
}
